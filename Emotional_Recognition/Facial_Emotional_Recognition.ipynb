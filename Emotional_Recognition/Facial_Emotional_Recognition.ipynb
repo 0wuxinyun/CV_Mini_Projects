{
  "nbformat": 4,
  "nbformat_minor": 0,
  "metadata": {
    "colab": {
      "name": "Facial_Emotional_Recognition.ipynb",
      "provenance": []
    },
    "kernelspec": {
      "name": "python3",
      "display_name": "Python 3"
    },
    "accelerator": "GPU"
  },
  "cells": [
    {
      "cell_type": "markdown",
      "metadata": {
        "id": "jrOQuFv7cqWi",
        "colab_type": "text"
      },
      "source": [
        "# Facial Emotion Recogniton:\n",
        "- dataset: Face_Emotion.csv\n",
        "- Methods: CNN"
      ]
    },
    {
      "cell_type": "markdown",
      "metadata": {
        "id": "bS_kRDgVc0Hc",
        "colab_type": "text"
      },
      "source": [
        "## pre-process:\n"
      ]
    },
    {
      "cell_type": "code",
      "metadata": {
        "id": "b0MflzccZw7e",
        "colab_type": "code",
        "colab": {}
      },
      "source": [
        "# necessary setting:\n",
        "%matplotlib inline"
      ],
      "execution_count": 0,
      "outputs": []
    },
    {
      "cell_type": "markdown",
      "metadata": {
        "id": "eg3i7RwQdSjN",
        "colab_type": "text"
      },
      "source": [
        "### library type:\n",
        "- normal data process library :\n",
        "  1. numpy/pandas/matplotlib\n",
        "- data process library and evaluation :\n",
        "  1. sklearn : split / evaluation\n",
        "- CNN :\n",
        "  1. tensorflow-keras / pytorch-nn\n",
        "- colab google:\n"
      ]
    },
    {
      "cell_type": "code",
      "metadata": {
        "id": "mmTvhZV3c8L-",
        "colab_type": "code",
        "outputId": "b244fb80-c79e-49a2-eaf9-9b9fadcda65b",
        "colab": {
          "base_uri": "https://localhost:8080/",
          "height": 185
        }
      },
      "source": [
        "# import library:\n",
        "import pandas as pd\n",
        "import numpy as np\n",
        "\n",
        "import matplotlib.pyplot as plt\n",
        "import matplotlib.image as mpimg\n",
        "\n",
        "from sklearn.model_selection import train_test_split\n",
        "from sklearn.metrics import confusion_matrix\n",
        "\n",
        "from keras.utils.np_utils import to_categorical \n",
        "from keras.models import Sequential\n",
        "from keras.layers import Dense, Dropout, Flatten, Conv2D, MaxPool2D\n",
        "from keras.optimizers import Adam\n",
        "from keras.callbacks import ReduceLROnPlateau\n",
        "\n",
        "from google.colab import drive\n",
        "drive.mount('/content/gdrive')"
      ],
      "execution_count": 2,
      "outputs": [
        {
          "output_type": "stream",
          "text": [
            "Using TensorFlow backend.\n"
          ],
          "name": "stderr"
        },
        {
          "output_type": "display_data",
          "data": {
            "text/html": [
              "<p style=\"color: red;\">\n",
              "The default version of TensorFlow in Colab will soon switch to TensorFlow 2.x.<br>\n",
              "We recommend you <a href=\"https://www.tensorflow.org/guide/migrate\" target=\"_blank\">upgrade</a> now \n",
              "or ensure your notebook will continue to use TensorFlow 1.x via the <code>%tensorflow_version 1.x</code> magic:\n",
              "<a href=\"https://colab.research.google.com/notebooks/tensorflow_version.ipynb\" target=\"_blank\">more info</a>.</p>\n"
            ],
            "text/plain": [
              "<IPython.core.display.HTML object>"
            ]
          },
          "metadata": {
            "tags": []
          }
        },
        {
          "output_type": "stream",
          "text": [
            "Go to this URL in a browser: https://accounts.google.com/o/oauth2/auth?client_id=947318989803-6bn6qk8qdgf4n4g3pfee6491hc0brc4i.apps.googleusercontent.com&redirect_uri=urn%3aietf%3awg%3aoauth%3a2.0%3aoob&response_type=code&scope=email%20https%3a%2f%2fwww.googleapis.com%2fauth%2fdocs.test%20https%3a%2f%2fwww.googleapis.com%2fauth%2fdrive%20https%3a%2f%2fwww.googleapis.com%2fauth%2fdrive.photos.readonly%20https%3a%2f%2fwww.googleapis.com%2fauth%2fpeopleapi.readonly\n",
            "\n",
            "Enter your authorization code:\n",
            "··········\n",
            "Mounted at /content/gdrive\n"
          ],
          "name": "stdout"
        }
      ]
    },
    {
      "cell_type": "markdown",
      "metadata": {
        "id": "XUJavEXEeBz9",
        "colab_type": "text"
      },
      "source": [
        "## data process:"
      ]
    },
    {
      "cell_type": "code",
      "metadata": {
        "id": "ebhf-DtEdv0w",
        "colab_type": "code",
        "colab": {}
      },
      "source": [
        "# load:\n",
        "data=pd.read_csv(\"gdrive/My Drive/Face_Emotion.csv\")"
      ],
      "execution_count": 0,
      "outputs": []
    },
    {
      "cell_type": "code",
      "metadata": {
        "id": "yNAdTq7EeNzc",
        "colab_type": "code",
        "colab": {}
      },
      "source": [
        "# process data from csv to useable\n",
        "X=data[\"pixels\"].tolist()\n",
        "width, height = 48, 48\n",
        "\n",
        "train=[]\n",
        "for img in X:\n",
        "  x=[int(i) for i in img.split(\" \")]\n",
        "  x = np.asarray(x).reshape(width, height)\n",
        "  train.append(x.astype('float32'))\n",
        "  \n",
        "train = np.asarray(train)\n",
        "train = np.expand_dims(train, -1)\n"
      ],
      "execution_count": 0,
      "outputs": []
    },
    {
      "cell_type": "code",
      "metadata": {
        "id": "5_-YILQpAH4B",
        "colab_type": "code",
        "colab": {}
      },
      "source": [
        "# normalize:\n",
        "x = train\n",
        "x -= np.mean(x, axis=0)\n",
        "x /= np.std(x, axis=0)\n",
        "train=x"
      ],
      "execution_count": 0,
      "outputs": []
    },
    {
      "cell_type": "code",
      "metadata": {
        "id": "-lH_Pq2vfzQp",
        "colab_type": "code",
        "outputId": "38e925ce-5a5d-436e-f9b8-eaf2ac3db2e3",
        "colab": {
          "base_uri": "https://localhost:8080/",
          "height": 71
        }
      },
      "source": [
        "# one hot encoding: \n",
        "y = pd.get_dummies(data['emotion']).as_matrix()"
      ],
      "execution_count": 6,
      "outputs": [
        {
          "output_type": "stream",
          "text": [
            "/usr/local/lib/python3.6/dist-packages/ipykernel_launcher.py:1: FutureWarning: Method .as_matrix will be removed in a future version. Use .values instead.\n",
            "  \"\"\"Entry point for launching an IPython kernel.\n"
          ],
          "name": "stderr"
        }
      ]
    },
    {
      "cell_type": "code",
      "metadata": {
        "id": "grJ6LJRS_uDl",
        "colab_type": "code",
        "colab": {}
      },
      "source": [
        "# split to train and test :\n",
        "x_train,x_val,y_train,y_val=train_test_split(train, y, test_size=0.1, random_state=2)\n",
        "\n"
      ],
      "execution_count": 0,
      "outputs": []
    },
    {
      "cell_type": "code",
      "metadata": {
        "id": "GDlQX8vmmRsC",
        "colab_type": "code",
        "outputId": "d87a0c2c-8d3e-40e1-be51-598334abf0a9",
        "colab": {
          "base_uri": "https://localhost:8080/",
          "height": 34
        }
      },
      "source": [
        "y_train[0]"
      ],
      "execution_count": 0,
      "outputs": [
        {
          "output_type": "execute_result",
          "data": {
            "text/plain": [
              "array([0, 0, 0, 0, 0, 1, 0], dtype=uint8)"
            ]
          },
          "metadata": {
            "tags": []
          },
          "execution_count": 55
        }
      ]
    },
    {
      "cell_type": "code",
      "metadata": {
        "id": "ghCdKQWOASeT",
        "colab_type": "code",
        "outputId": "4ba86cad-b211-4f54-87a2-175fcdbf2d09",
        "colab": {
          "base_uri": "https://localhost:8080/",
          "height": 248
        }
      },
      "source": [
        "# show some data :\n",
        "fig=plt.figure()\n",
        "for i in range(6):\n",
        "  plt.subplot(3,2,i+1)\n",
        "  plt.axis(\"off\")\n",
        "  plt.imshow(x_train[i].reshape((48,48)))\n"
      ],
      "execution_count": 8,
      "outputs": [
        {
          "output_type": "display_data",
          "data": {
            "image/png": "[encoded data removed]",
            "text/plain": [
              "<Figure size 432x288 with 6 Axes>"
            ]
          },
          "metadata": {
            "tags": []
          }
        }
      ]
    },
    {
      "cell_type": "markdown",
      "metadata": {
        "id": "8gCfm48GihVu",
        "colab_type": "text"
      },
      "source": [
        "## CNN structure:"
      ]
    },
    {
      "cell_type": "code",
      "metadata": {
        "id": "PcIy07tNs6hQ",
        "colab_type": "code",
        "colab": {
          "base_uri": "https://localhost:8080/",
          "height": 156
        },
        "outputId": "58f2743c-3cba-4c79-b523-60d8949b8189"
      },
      "source": [
        "from keras.regularizers import l2\n",
        "from keras.layers import Conv2D, MaxPooling2D, BatchNormalization\n",
        "#desinging the CNN\n",
        "num_features = 64\n",
        "num_labels = 7\n",
        "batch_size = 64\n",
        "epochs = 10\n",
        "width, height = 48, 48\n",
        "model = Sequential()\n",
        "\n",
        "model.add(Conv2D(num_features, kernel_size=(3, 3), activation='relu', input_shape=(width, height, 1), data_format='channels_last', kernel_regularizer=l2(0.01)))\n",
        "model.add(Conv2D(num_features, kernel_size=(3, 3), activation='relu', padding='same'))\n",
        "model.add(BatchNormalization())\n",
        "model.add(MaxPooling2D(pool_size=(2, 2), strides=(2, 2)))\n",
        "model.add(Dropout(0.5))\n",
        "\n",
        "model.add(Conv2D(2*num_features, kernel_size=(3, 3), activation='relu', padding='same'))\n",
        "model.add(BatchNormalization())\n",
        "model.add(Conv2D(2*num_features, kernel_size=(3, 3), activation='relu', padding='same'))\n",
        "model.add(BatchNormalization())\n",
        "model.add(MaxPooling2D(pool_size=(2, 2), strides=(2, 2)))\n",
        "model.add(Dropout(0.5))\n",
        "\n",
        "model.add(Conv2D(2*2*num_features, kernel_size=(3, 3), activation='relu', padding='same'))\n",
        "model.add(BatchNormalization())\n",
        "model.add(Conv2D(2*2*num_features, kernel_size=(3, 3), activation='relu', padding='same'))\n",
        "model.add(BatchNormalization())\n",
        "model.add(MaxPooling2D(pool_size=(2, 2), strides=(2, 2)))\n",
        "model.add(Dropout(0.5))\n",
        "\n",
        "model.add(Conv2D(2*2*2*num_features, kernel_size=(3, 3), activation='relu', padding='same'))\n",
        "model.add(BatchNormalization())\n",
        "model.add(Conv2D(2*2*2*num_features, kernel_size=(3, 3), activation='relu', padding='same'))\n",
        "model.add(BatchNormalization())\n",
        "model.add(MaxPooling2D(pool_size=(2, 2), strides=(2, 2)))\n",
        "model.add(Dropout(0.5))\n",
        "\n",
        "model.add(Flatten())\n",
        "\n",
        "model.add(Dense(2*2*2*num_features, activation='relu'))\n",
        "model.add(Dropout(0.4))\n",
        "model.add(Dense(2*2*num_features, activation='relu'))\n",
        "model.add(Dropout(0.4))\n",
        "model.add(Dense(2*num_features, activation='relu'))\n",
        "model.add(Dropout(0.5))\n",
        "\n",
        "model.add(Dense(num_labels, activation='softmax'))"
      ],
      "execution_count": 16,
      "outputs": [
        {
          "output_type": "stream",
          "text": [
            "WARNING:tensorflow:From /usr/local/lib/python3.6/dist-packages/keras/backend/tensorflow_backend.py:2041: The name tf.nn.fused_batch_norm is deprecated. Please use tf.compat.v1.nn.fused_batch_norm instead.\n",
            "\n",
            "WARNING:tensorflow:From /usr/local/lib/python3.6/dist-packages/keras/backend/tensorflow_backend.py:148: The name tf.placeholder_with_default is deprecated. Please use tf.compat.v1.placeholder_with_default instead.\n",
            "\n",
            "WARNING:tensorflow:From /usr/local/lib/python3.6/dist-packages/keras/backend/tensorflow_backend.py:3733: calling dropout (from tensorflow.python.ops.nn_ops) with keep_prob is deprecated and will be removed in a future version.\n",
            "Instructions for updating:\n",
            "Please use `rate` instead of `keep_prob`. Rate should be set to `rate = 1 - keep_prob`.\n"
          ],
          "name": "stdout"
        }
      ]
    },
    {
      "cell_type": "code",
      "metadata": {
        "id": "eSj-1soLlyyo",
        "colab_type": "code",
        "outputId": "8531ddbd-1179-44ab-a3f4-c089bae55d6c",
        "colab": {
          "base_uri": "https://localhost:8080/",
          "height": 799
        }
      },
      "source": [
        "model.summary()"
      ],
      "execution_count": 0,
      "outputs": [
        {
          "output_type": "stream",
          "text": [
            "Model: \"sequential_12\"\n",
            "_________________________________________________________________\n",
            "Layer (type)                 Output Shape              Param #   \n",
            "=================================================================\n",
            "conv2d_62 (Conv2D)           (None, 48, 48, 64)        640       \n",
            "_________________________________________________________________\n",
            "conv2d_63 (Conv2D)           (None, 48, 48, 64)        36928     \n",
            "_________________________________________________________________\n",
            "max_pooling2d_24 (MaxPooling (None, 24, 24, 64)        0         \n",
            "_________________________________________________________________\n",
            "conv2d_64 (Conv2D)           (None, 24, 24, 128)       73856     \n",
            "_________________________________________________________________\n",
            "conv2d_65 (Conv2D)           (None, 24, 24, 128)       147584    \n",
            "_________________________________________________________________\n",
            "max_pooling2d_25 (MaxPooling (None, 12, 12, 128)       0         \n",
            "_________________________________________________________________\n",
            "conv2d_66 (Conv2D)           (None, 12, 12, 256)       295168    \n",
            "_________________________________________________________________\n",
            "conv2d_67 (Conv2D)           (None, 12, 12, 256)       590080    \n",
            "_________________________________________________________________\n",
            "conv2d_68 (Conv2D)           (None, 12, 12, 256)       590080    \n",
            "_________________________________________________________________\n",
            "max_pooling2d_26 (MaxPooling (None, 6, 6, 256)         0         \n",
            "_________________________________________________________________\n",
            "conv2d_69 (Conv2D)           (None, 6, 6, 512)         1180160   \n",
            "_________________________________________________________________\n",
            "conv2d_70 (Conv2D)           (None, 6, 6, 512)         2359808   \n",
            "_________________________________________________________________\n",
            "conv2d_71 (Conv2D)           (None, 6, 6, 512)         2359808   \n",
            "_________________________________________________________________\n",
            "max_pooling2d_27 (MaxPooling (None, 3, 3, 512)         0         \n",
            "_________________________________________________________________\n",
            "flatten_7 (Flatten)          (None, 4608)              0         \n",
            "_________________________________________________________________\n",
            "dense_25 (Dense)             (None, 1024)              4719616   \n",
            "_________________________________________________________________\n",
            "dense_26 (Dense)             (None, 512)               524800    \n",
            "_________________________________________________________________\n",
            "dense_27 (Dense)             (None, 256)               131328    \n",
            "_________________________________________________________________\n",
            "dense_28 (Dense)             (None, 7)                 1799      \n",
            "=================================================================\n",
            "Total params: 13,011,655\n",
            "Trainable params: 13,011,655\n",
            "Non-trainable params: 0\n",
            "_________________________________________________________________\n"
          ],
          "name": "stdout"
        }
      ]
    },
    {
      "cell_type": "markdown",
      "metadata": {
        "id": "rdC1TxuefErP",
        "colab_type": "text"
      },
      "source": [
        "## train CNN:"
      ]
    },
    {
      "cell_type": "code",
      "metadata": {
        "id": "EDn9TDaxfF9C",
        "colab_type": "code",
        "colab": {}
      },
      "source": [
        "# optimizer:\n",
        "optimizor=Adam(lr=0.001, beta_1=0.9, beta_2=0.999, epsilon=1e-7)"
      ],
      "execution_count": 0,
      "outputs": []
    },
    {
      "cell_type": "code",
      "metadata": {
        "id": "DcaKharQWGbJ",
        "colab_type": "code",
        "colab": {}
      },
      "source": [
        "# compile:\n",
        "model.compile(loss='categorical_crossentropy',\n",
        "              optimizer=optimizor,\n",
        "              metrics=['accuracy'])"
      ],
      "execution_count": 0,
      "outputs": []
    },
    {
      "cell_type": "code",
      "metadata": {
        "id": "oPPs-95eWG7N",
        "colab_type": "code",
        "outputId": "f79cb8e9-cb8d-49eb-fa04-90880392c5e4",
        "colab": {
          "base_uri": "https://localhost:8080/",
          "height": 731
        }
      },
      "source": [
        "# train:\n",
        "model.fit(np.array(x_train), np.array(y_train),\n",
        "          batch_size=64,\n",
        "          epochs=20,\n",
        "          verbose=1,\n",
        "          validation_data=(np.array(x_val), np.array(y_val)),\n",
        "          shuffle=True)"
      ],
      "execution_count": 21,
      "outputs": [
        {
          "output_type": "stream",
          "text": [
            "Train on 32298 samples, validate on 3589 samples\n",
            "Epoch 1/20\n",
            "32298/32298 [==============================] - 28s 872us/step - loss: 1.7070 - acc: 0.3113 - val_loss: 1.5800 - val_acc: 0.3670\n",
            "Epoch 2/20\n",
            "32298/32298 [==============================] - 28s 874us/step - loss: 1.5593 - acc: 0.3844 - val_loss: 1.4695 - val_acc: 0.4221\n",
            "Epoch 3/20\n",
            "32298/32298 [==============================] - 28s 869us/step - loss: 1.4724 - acc: 0.4278 - val_loss: 1.4060 - val_acc: 0.4561\n",
            "Epoch 4/20\n",
            "32298/32298 [==============================] - 28s 868us/step - loss: 1.4125 - acc: 0.4590 - val_loss: 1.3671 - val_acc: 0.4798\n",
            "Epoch 5/20\n",
            "32298/32298 [==============================] - 28s 868us/step - loss: 1.3663 - acc: 0.4766 - val_loss: 1.2897 - val_acc: 0.4982\n",
            "Epoch 6/20\n",
            "32298/32298 [==============================] - 28s 865us/step - loss: 1.3308 - acc: 0.4999 - val_loss: 1.3022 - val_acc: 0.5038\n",
            "Epoch 7/20\n",
            "32298/32298 [==============================] - 28s 866us/step - loss: 1.2988 - acc: 0.5172 - val_loss: 1.3159 - val_acc: 0.5001\n",
            "Epoch 8/20\n",
            "32298/32298 [==============================] - 28s 868us/step - loss: 1.2684 - acc: 0.5300 - val_loss: 1.2378 - val_acc: 0.5313\n",
            "Epoch 9/20\n",
            "32298/32298 [==============================] - 28s 869us/step - loss: 1.2413 - acc: 0.5424 - val_loss: 1.1845 - val_acc: 0.5483\n",
            "Epoch 10/20\n",
            "32298/32298 [==============================] - 28s 867us/step - loss: 1.2173 - acc: 0.5515 - val_loss: 1.1855 - val_acc: 0.5508\n",
            "Epoch 11/20\n",
            "32298/32298 [==============================] - 28s 867us/step - loss: 1.1947 - acc: 0.5603 - val_loss: 1.1646 - val_acc: 0.5575\n",
            "Epoch 12/20\n",
            "32298/32298 [==============================] - 28s 865us/step - loss: 1.1667 - acc: 0.5694 - val_loss: 1.1597 - val_acc: 0.5648\n",
            "Epoch 13/20\n",
            "32298/32298 [==============================] - 28s 866us/step - loss: 1.1433 - acc: 0.5846 - val_loss: 1.1134 - val_acc: 0.5773\n",
            "Epoch 14/20\n",
            "32298/32298 [==============================] - 28s 865us/step - loss: 1.1176 - acc: 0.5943 - val_loss: 1.1034 - val_acc: 0.5846\n",
            "Epoch 15/20\n",
            "32298/32298 [==============================] - 28s 864us/step - loss: 1.0983 - acc: 0.6028 - val_loss: 1.0832 - val_acc: 0.5999\n",
            "Epoch 16/20\n",
            "32298/32298 [==============================] - 28s 863us/step - loss: 1.0709 - acc: 0.6160 - val_loss: 1.0801 - val_acc: 0.5943\n",
            "Epoch 17/20\n",
            "32298/32298 [==============================] - 28s 866us/step - loss: 1.0471 - acc: 0.6232 - val_loss: 1.1155 - val_acc: 0.5793\n",
            "Epoch 18/20\n",
            "32298/32298 [==============================] - 28s 866us/step - loss: 1.0258 - acc: 0.6299 - val_loss: 1.0545 - val_acc: 0.6096\n",
            "Epoch 19/20\n",
            "32298/32298 [==============================] - 28s 866us/step - loss: 1.0036 - acc: 0.6374 - val_loss: 1.0543 - val_acc: 0.6030\n",
            "Epoch 20/20\n",
            "32298/32298 [==============================] - 28s 867us/step - loss: 0.9834 - acc: 0.6476 - val_loss: 1.0512 - val_acc: 0.6119\n"
          ],
          "name": "stdout"
        },
        {
          "output_type": "execute_result",
          "data": {
            "text/plain": [
              "<keras.callbacks.History at 0x7f9c26931b70>"
            ]
          },
          "metadata": {
            "tags": []
          },
          "execution_count": 21
        }
      ]
    },
    {
      "cell_type": "code",
      "metadata": {
        "id": "ZluT18iNgKzm",
        "colab_type": "code",
        "colab": {}
      },
      "source": [
        ""
      ],
      "execution_count": 0,
      "outputs": []
    },
    {
      "cell_type": "markdown",
      "metadata": {
        "id": "Yd89BqZuugF-",
        "colab_type": "text"
      },
      "source": [
        "## References:\n",
        "[link](https://medium.com/themlblog/how-to-do-facial-emotion-recognition-using-a-cnn-b7bbae79cd8f!)"
      ]
    },
    {
      "cell_type": "markdown",
      "metadata": {
        "id": "yDM8hYcUurmF",
        "colab_type": "text"
      },
      "source": [
        "## Summary:\n",
        "\n",
        "- Preprocess:\n",
        "  normalization\n",
        "  one-hot encoding \n",
        "\n",
        "- Model:\n",
        "  vuecnn \n",
        "\n",
        "- Ps:\n",
        "### Batch normalization \n"
      ]
    },
    {
      "cell_type": "code",
      "metadata": {
        "id": "YVB2LJ2vvYXL",
        "colab_type": "code",
        "colab": {}
      },
      "source": [
        ""
      ],
      "execution_count": 0,
      "outputs": []
    }
  ]
}