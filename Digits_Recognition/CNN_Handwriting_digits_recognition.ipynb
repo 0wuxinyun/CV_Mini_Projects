{
  "nbformat": 4,
  "nbformat_minor": 0,
  "metadata": {
    "colab": {
      "name": "CNN_Handwriting_digits_recognition.ipynb",
      "provenance": []
    },
    "kernelspec": {
      "name": "python3",
      "display_name": "Python 3"
    },
    "accelerator": "GPU"
  },
  "cells": [
    {
      "cell_type": "markdown",
      "metadata": {
        "id": "9ZID8grlR5vw",
        "colab_type": "text"
      },
      "source": [
        "# Handwriting digits recogniton with CNN:\n",
        "\n",
        "\n"
      ]
    },
    {
      "cell_type": "markdown",
      "metadata": {
        "id": "TCVcOwe5SFDb",
        "colab_type": "text"
      },
      "source": [
        "## pre-process"
      ]
    },
    {
      "cell_type": "code",
      "metadata": {
        "id": "WSi6aq61SEd3",
        "colab_type": "code",
        "outputId": "233b1246-c50f-4da8-ca57-5298710d7d75",
        "colab": {
          "base_uri": "https://localhost:8080/",
          "height": 34
        }
      },
      "source": [
        "# necessary setting:\n",
        "%matplotlib inline\n",
        "# import library\n",
        "import pandas as pd\n",
        "import numpy as np\n",
        "import matplotlib.pyplot as plt\n",
        "import matplotlib.image as mpimg\n",
        "\n",
        "from sklearn.model_selection import train_test_split\n",
        "from sklearn.metrics import confusion_matrix\n",
        "\n",
        "from keras.utils.np_utils import to_categorical # convert to one-hot-encoding\n",
        "from keras.models import Sequential\n",
        "from keras.layers import Dense, Dropout, Flatten, Conv2D, MaxPool2D\n",
        "from keras.optimizers import RMSprop\n",
        "from keras.preprocessing.image import ImageDataGenerator\n",
        "from keras.callbacks import ReduceLROnPlateau\n",
        "\n"
      ],
      "execution_count": 0,
      "outputs": [
        {
          "output_type": "stream",
          "text": [
            "Using TensorFlow backend.\n"
          ],
          "name": "stderr"
        }
      ]
    },
    {
      "cell_type": "markdown",
      "metadata": {
        "id": "v4TnOcmPf5dm",
        "colab_type": "text"
      },
      "source": [
        "## HOW TO LOAD DATA FROM GOOGLE DRIVER TO COLAB:\n",
        "- MOUNT TO /content/gdrive\n",
        "- PS: can only access under MY Driver \n"
      ]
    },
    {
      "cell_type": "code",
      "metadata": {
        "id": "3LjeV87Za1b_",
        "colab_type": "code",
        "outputId": "db74ce31-e722-439c-b36f-03a4831581e3",
        "colab": {
          "base_uri": "https://localhost:8080/",
          "height": 34
        }
      },
      "source": [
        "# LOAD DATA FROM GOOOGLE DRIVER\n",
        "\n",
        "from google.colab import drive\n",
        "\n",
        "drive.mount('/content/gdrive')\n"
      ],
      "execution_count": 0,
      "outputs": [
        {
          "output_type": "stream",
          "text": [
            "Drive already mounted at /content/gdrive; to attempt to forcibly remount, call drive.mount(\"/content/gdrive\", force_remount=True).\n"
          ],
          "name": "stdout"
        }
      ]
    },
    {
      "cell_type": "markdown",
      "metadata": {
        "id": "3dtinq6ogQRM",
        "colab_type": "text"
      },
      "source": [
        "## Load DATA :"
      ]
    },
    {
      "cell_type": "code",
      "metadata": {
        "id": "qvoDJAwwbqIC",
        "colab_type": "code",
        "colab": {}
      },
      "source": [
        "train = pd.read_csv(\"gdrive/My Drive/train.csv\")\n"
      ],
      "execution_count": 0,
      "outputs": []
    },
    {
      "cell_type": "code",
      "metadata": {
        "id": "4rH16v5ic0bk",
        "colab_type": "code",
        "colab": {}
      },
      "source": [
        "test=pd.read_csv(\"gdrive/My Drive/test.csv\")"
      ],
      "execution_count": 0,
      "outputs": []
    },
    {
      "cell_type": "markdown",
      "metadata": {
        "id": "LnxZ_EWNgbk4",
        "colab_type": "text"
      },
      "source": [
        "## DATA process:\n",
        "- data and labels\n",
        "- normalize/ transforms ..."
      ]
    },
    {
      "cell_type": "code",
      "metadata": {
        "id": "RU2tY3VpgbRt",
        "colab_type": "code",
        "colab": {}
      },
      "source": [
        "# split data to dataset and labels:\n",
        "y_train=train[\"label\"]\n",
        "x_train=train.drop(labels = [\"label\"],axis = 1) \n",
        "del train"
      ],
      "execution_count": 0,
      "outputs": []
    },
    {
      "cell_type": "markdown",
      "metadata": {
        "id": "-gWrY8mrhNam",
        "colab_type": "text"
      },
      "source": [
        "[pandas_drop](https://pandas.pydata.org/pandas-docs/stable/reference/api/pandas.DataFrame.drop.html)\n",
        "\n"
      ]
    },
    {
      "cell_type": "code",
      "metadata": {
        "id": "mlUStxnWibmf",
        "colab_type": "code",
        "colab": {}
      },
      "source": [
        "# normalize data:\n",
        "x_train=x_train/255.0\n",
        "test=test/255.0"
      ],
      "execution_count": 0,
      "outputs": []
    },
    {
      "cell_type": "code",
      "metadata": {
        "id": "hUPbpN_QjOrP",
        "colab_type": "code",
        "colab": {}
      },
      "source": [
        "# reshape data:\n",
        "x_train=x_train.values.reshape(-1,28,28,1)\n",
        "test=test.values.reshape(-1,28,28,1)"
      ],
      "execution_count": 0,
      "outputs": []
    },
    {
      "cell_type": "code",
      "metadata": {
        "id": "mVktOfaGpQh_",
        "colab_type": "code",
        "outputId": "73583098-a995-4b60-9e21-bf2c23908b76",
        "colab": {
          "base_uri": "https://localhost:8080/",
          "height": 473
        }
      },
      "source": [
        "m=y_train.value_counts()\n",
        "y=[]\n",
        "for i in range(len(m)):\n",
        "  y.append(m[i])\n",
        "plt.bar(range(0,10),y)\n",
        "plt.ylabel(\"number\")\n",
        "plt.xticks(range(0,11))"
      ],
      "execution_count": 0,
      "outputs": [
        {
          "output_type": "execute_result",
          "data": {
            "text/plain": [
              "([<matplotlib.axis.XTick at 0x7fc8d6efa668>,\n",
              "  <matplotlib.axis.XTick at 0x7fc8d6f04f60>,\n",
              "  <matplotlib.axis.XTick at 0x7fc8d6f04c88>,\n",
              "  <matplotlib.axis.XTick at 0x7fc8d6e49a58>,\n",
              "  <matplotlib.axis.XTick at 0x7fc8d6e49588>,\n",
              "  <matplotlib.axis.XTick at 0x7fc8d6e490b8>,\n",
              "  <matplotlib.axis.XTick at 0x7fc8d6e494a8>,\n",
              "  <matplotlib.axis.XTick at 0x7fc8d6e274e0>,\n",
              "  <matplotlib.axis.XTick at 0x7fc8d6e279e8>,\n",
              "  <matplotlib.axis.XTick at 0x7fc8d6e27ef0>,\n",
              "  <matplotlib.axis.XTick at 0x7fc8d6e4e438>],\n",
              " <a list of 11 Text xticklabel objects>)"
            ]
          },
          "metadata": {
            "tags": []
          },
          "execution_count": 38
        },
        {
          "output_type": "display_data",
          "data": {
            "image/png": "[encoded data removed]",
            "text/plain": [
              "<Figure size 432x288 with 1 Axes>"
            ]
          },
          "metadata": {
            "tags": []
          }
        }
      ]
    },
    {
      "cell_type": "markdown",
      "metadata": {
        "id": "yx-r6I5uiOzX",
        "colab_type": "text"
      },
      "source": [
        "## one_hot_encoding:\n",
        "### from numerical value to vector "
      ]
    },
    {
      "cell_type": "code",
      "metadata": {
        "id": "H-Mm5kekezj2",
        "colab_type": "code",
        "colab": {}
      },
      "source": [
        "y_train=to_categorical(y_train, num_classes = 10)\n"
      ],
      "execution_count": 0,
      "outputs": []
    },
    {
      "cell_type": "markdown",
      "metadata": {
        "id": "9ljNN7kFoiqT",
        "colab_type": "text"
      },
      "source": [
        "## split the datasets to trainng and validations:\n",
        "### ps things to note:\n",
        "- percentage\n",
        "- random\n",
        "- ! for some unbalanced dataset random split will need to inaccuracy"
      ]
    },
    {
      "cell_type": "code",
      "metadata": {
        "id": "h8EVvz77o734",
        "colab_type": "code",
        "colab": {}
      },
      "source": [
        "# check if the data is balanced:\n",
        "# refer to the former line: before one hot encoding "
      ],
      "execution_count": 0,
      "outputs": []
    },
    {
      "cell_type": "code",
      "metadata": {
        "id": "jyA6MrvQoIMV",
        "colab_type": "code",
        "colab": {}
      },
      "source": [
        "# split the datasets to train and validation sets:\n",
        "x_train,x_val,y_train,y_val=train_test_split(x_train,y_train,test_size=0.1,random_state=2)"
      ],
      "execution_count": 0,
      "outputs": []
    },
    {
      "cell_type": "markdown",
      "metadata": {
        "id": "oNyMNxgG0evF",
        "colab_type": "text"
      },
      "source": [
        "## CNN STRUCTURE:"
      ]
    },
    {
      "cell_type": "code",
      "metadata": {
        "id": "JompT0OnqKwB",
        "colab_type": "code",
        "colab": {}
      },
      "source": [
        "model=Sequential()\n",
        "model.add(Conv2D(filters=32,kernel_size=(5,5),padding=\"Same\",activation=\"relu\",input_shape=(28,28,1)))\n",
        "model.add(Conv2D(filters=32,kernel_size=(5,5),padding=\"Same\",activation=\"relu\"))\n",
        "model.add(MaxPool2D(pool_size=(2,2)))\n",
        "model.add(Dropout(0.25))\n",
        "model.add(Conv2D(filters = 64, kernel_size = (3,3),padding = 'Same', \n",
        "                 activation ='relu'))\n",
        "model.add(Conv2D(filters = 64, kernel_size = (3,3),padding = 'Same', \n",
        "                 activation ='relu'))\n",
        "model.add(MaxPool2D(pool_size=(2,2), strides=(2,2)))\n",
        "model.add(Dropout(0.25))\n",
        "\n",
        "\n",
        "model.add(Flatten())\n",
        "model.add(Dense(256, activation = \"relu\"))\n",
        "model.add(Dropout(0.5))\n",
        "model.add(Dense(10, activation = \"softmax\"))\n",
        "          "
      ],
      "execution_count": 0,
      "outputs": []
    },
    {
      "cell_type": "markdown",
      "metadata": {
        "id": "RJvRRcb84724",
        "colab_type": "text"
      },
      "source": [
        "### compile cnn structure:\n",
        "[optimizer](https://towardsdatascience.com/understanding-rmsprop-faster-neural-network-learning-62e116fcf29a)"
      ]
    },
    {
      "cell_type": "code",
      "metadata": {
        "id": "566BbwSC47b6",
        "colab_type": "code",
        "colab": {}
      },
      "source": [
        "optimizer=RMSprop(lr=0.001,rho=0.9,epsilon=1e-08, decay=0.0)"
      ],
      "execution_count": 0,
      "outputs": []
    },
    {
      "cell_type": "code",
      "metadata": {
        "id": "sJahll4a_2D7",
        "colab_type": "code",
        "colab": {}
      },
      "source": [
        "model.compile(optimizer = optimizer , loss = \"categorical_crossentropy\", metrics=[\"accuracy\"])"
      ],
      "execution_count": 0,
      "outputs": []
    },
    {
      "cell_type": "markdown",
      "metadata": {
        "id": "knptFH3FAaDY",
        "colab_type": "text"
      },
      "source": [
        "### learning rate problem:\n",
        "  ### AIM:\n",
        "  \n",
        "  -Convergence fast\n",
        "  -Accuracy\n",
        "  \n",
        "  decrease lr if accuracy not improve"
      ]
    },
    {
      "cell_type": "code",
      "metadata": {
        "id": "aakMSljvAvop",
        "colab_type": "code",
        "colab": {}
      },
      "source": [
        "# Set a learning rate annealer\n",
        "learning_rate_reduction = ReduceLROnPlateau(monitor='val_acc', \n",
        "                                            patience=3, \n",
        "                                            verbose=1, \n",
        "                                            factor=0.5, \n",
        "                                            min_lr=0.00001)\n",
        "# if the val_acc not improve for 3 epoches half the lr if it bigger than min_lr"
      ],
      "execution_count": 0,
      "outputs": []
    },
    {
      "cell_type": "markdown",
      "metadata": {
        "id": "R8vX6cvTBwQ-",
        "colab_type": "text"
      },
      "source": [
        "### Data augmentation:\n",
        "- in order to avoid overfitting : data augmentation to get more data:\n"
      ]
    },
    {
      "cell_type": "code",
      "metadata": {
        "id": "7G3Mi-9UBuJ0",
        "colab_type": "code",
        "colab": {}
      },
      "source": [
        "# With data augmentation to prevent overfitting (accuracy 0.99286)\n",
        "\n",
        "datagen = ImageDataGenerator(\n",
        "        featurewise_center=False,  # set input mean to 0 over the dataset\n",
        "        samplewise_center=False,  # set each sample mean to 0\n",
        "        featurewise_std_normalization=False,  # divide inputs by std of the dataset\n",
        "        samplewise_std_normalization=False,  # divide each input by its std\n",
        "        zca_whitening=False,  # apply ZCA whitening\n",
        "        rotation_range=10,  # randomly rotate images in the range (degrees, 0 to 180)\n",
        "        zoom_range = 0.1, # Randomly zoom image \n",
        "        width_shift_range=0.1,  # randomly shift images horizontally (fraction of total width)\n",
        "        height_shift_range=0.1,  # randomly shift images vertically (fraction of total height)\n",
        "        horizontal_flip=False,  # randomly flip images\n",
        "        vertical_flip=False)\n",
        "\n",
        "\n",
        "datagen.fit(x_train)"
      ],
      "execution_count": 0,
      "outputs": []
    },
    {
      "cell_type": "markdown",
      "metadata": {
        "id": "OeptJIYtCAzw",
        "colab_type": "text"
      },
      "source": [
        "## train CNN:\n",
        "- without data augmentation\n",
        "- with data augmentation"
      ]
    },
    {
      "cell_type": "code",
      "metadata": {
        "id": "yyf-Tl9RCiiw",
        "colab_type": "code",
        "colab": {}
      },
      "source": [
        "# setting:\n",
        "epochs = 3 # Turn epochs to 30 to get 0.9967 accuracy\n",
        "batch_size = 86\n"
      ],
      "execution_count": 0,
      "outputs": []
    },
    {
      "cell_type": "code",
      "metadata": {
        "id": "7obBNuyBB_rv",
        "colab_type": "code",
        "outputId": "32372a0b-ca74-4b2c-cae3-cacc19fc9ea2",
        "colab": {
          "base_uri": "https://localhost:8080/",
          "height": 68
        }
      },
      "source": [
        "## train \n",
        "\n",
        "# without :\n",
        "# Without data augmentation i obtained an accuracy of 0.98114\n",
        "history = model.fit(x_train, y_train, batch_size = batch_size, epochs = epochs, \n",
        "         validation_data = (x_val, y_val), verbose = 2)\n"
      ],
      "execution_count": 0,
      "outputs": [
        {
          "output_type": "stream",
          "text": [
            "Train on 37800 samples, validate on 4200 samples\n",
            "Epoch 1/1\n",
            " - 8s - loss: 0.2566 - acc: 0.9176 - val_loss: 0.0578 - val_acc: 0.9788\n"
          ],
          "name": "stdout"
        }
      ]
    },
    {
      "cell_type": "code",
      "metadata": {
        "id": "fZlHx6WcCZIt",
        "colab_type": "code",
        "outputId": "ba16758b-3550-4572-ec66-87d07868dbd3",
        "colab": {
          "base_uri": "https://localhost:8080/",
          "height": 119
        }
      },
      "source": [
        " history = model.fit_generator(datagen.flow(x_train,y_train, batch_size=batch_size),\n",
        "                              epochs = epochs, validation_data = (x_val,y_val),\n",
        "                              verbose = 2, steps_per_epoch=x_train.shape[0] // batch_size\n",
        "                              , callbacks=[learning_rate_reduction])\n"
      ],
      "execution_count": 0,
      "outputs": [
        {
          "output_type": "stream",
          "text": [
            "Epoch 1/3\n",
            " - 15s - loss: 0.0824 - acc: 0.9760 - val_loss: 0.0345 - val_acc: 0.9879\n",
            "Epoch 2/3\n",
            " - 14s - loss: 0.0726 - acc: 0.9782 - val_loss: 0.0271 - val_acc: 0.9905\n",
            "Epoch 3/3\n",
            " - 14s - loss: 0.0684 - acc: 0.9803 - val_loss: 0.0246 - val_acc: 0.9914\n"
          ],
          "name": "stdout"
        }
      ]
    },
    {
      "cell_type": "markdown",
      "metadata": {
        "id": "AqgcXyNVEGKh",
        "colab_type": "text"
      },
      "source": [
        "## Evaluate NN :\n",
        "- learning curves\n",
        "- confusion matrix\n",
        "- see the misclasify example"
      ]
    },
    {
      "cell_type": "code",
      "metadata": {
        "id": "XlN8w64zEZzS",
        "colab_type": "code",
        "outputId": "039bdf9b-fd28-4949-c0d6-00d855ba13d3",
        "colab": {
          "base_uri": "https://localhost:8080/",
          "height": 269
        }
      },
      "source": [
        "# learning curves: for many epoches;\n",
        "fig, ax = plt.subplots(2,1)\n",
        "ax[0].plot(history.history['loss'], color='b', label=\"Training loss\")\n",
        "ax[0].plot(history.history['val_loss'], color='r', label=\"validation loss\",axes =ax[0])\n",
        "legend = ax[0].legend(loc='best', shadow=True)\n",
        "\n",
        "ax[1].plot(history.history['acc'], color='b', label=\"Training accuracy\")\n",
        "ax[1].plot(history.history['val_acc'], color='r',label=\"Validation accuracy\")\n",
        "legend = ax[1].legend(loc='best', shadow=True)"
      ],
      "execution_count": 0,
      "outputs": [
        {
          "output_type": "display_data",
          "data": {
            "image/png": "[encoded data removed]",
            "text/plain": [
              "<Figure size 432x288 with 2 Axes>"
            ]
          },
          "metadata": {
            "tags": []
          }
        }
      ]
    },
    {
      "cell_type": "code",
      "metadata": {
        "id": "drKgpHnwE0g3",
        "colab_type": "code",
        "outputId": "afda4aba-4928-4307-cd82-1dd5b0ce90ce",
        "colab": {
          "base_uri": "https://localhost:8080/",
          "height": 311
        }
      },
      "source": [
        "# confusion matrix:\n",
        "import itertools\n",
        "cm = confusion_matrix(true, predictions) \n",
        "def plot_confusion_matrix(cm, classes,\n",
        "                          normalize=False,\n",
        "                          title='Confusion matrix',\n",
        "                          cmap=plt.cm.Blues):\n",
        "    \"\"\"\n",
        "    This function prints and plots the confusion matrix.\n",
        "    Normalization can be applied by setting `normalize=True`.\n",
        "    \"\"\"\n",
        "    plt.imshow(cm, interpolation='nearest', cmap=cmap)\n",
        "    plt.title(title)\n",
        "    plt.colorbar()\n",
        "    tick_marks = np.arange(len(classes))\n",
        "    plt.xticks(tick_marks, classes, rotation=45)\n",
        "    plt.yticks(tick_marks, classes)\n",
        "\n",
        "    if normalize:\n",
        "        cm = cm.astype('float') / cm.sum(axis=1)[:, np.newaxis]\n",
        "\n",
        "    thresh = cm.max() / 2.\n",
        "    for i, j in itertools.product(range(cm.shape[0]), range(cm.shape[1])):\n",
        "        plt.text(j, i, cm[i, j],\n",
        "                 horizontalalignment=\"center\",\n",
        "                 color=\"white\" if cm[i, j] > thresh else \"black\")\n",
        "\n",
        "    plt.tight_layout()\n",
        "    plt.ylabel('True label')\n",
        "    plt.xlabel('Predicted label')\n",
        "plot_confusion_matrix(cm, classes = range(10)) \n"
      ],
      "execution_count": 0,
      "outputs": [
        {
          "output_type": "display_data",
          "data": {
            "image/png": "[encoded data removed]",
            "text/plain": [
              "<Figure size 432x288 with 2 Axes>"
            ]
          },
          "metadata": {
            "tags": []
          }
        }
      ]
    },
    {
      "cell_type": "code",
      "metadata": {
        "id": "H67j8LFyNC4E",
        "colab_type": "code",
        "outputId": "158775af-9ee2-4897-bdf8-b59302c5ccca",
        "colab": {
          "base_uri": "https://localhost:8080/",
          "height": 296
        }
      },
      "source": [
        "# see misclassify example:\n",
        "# Display some error results \n",
        "\n",
        "# Errors are difference between predicted labels and true labels\n",
        "errors = (predictions - true!= 0)\n",
        "\n",
        "Y_pred_classes_errors = predictions[errors]\n",
        "Y_pred_errors = vectors[errors]\n",
        "Y_true_errors = true[errors]\n",
        "X_val_errors = x_val[errors]\n",
        "\n",
        "def display_errors(errors_index,img_errors,pred_errors, obs_errors):\n",
        "    \"\"\" This function shows 6 images with their predicted and real labels\"\"\"\n",
        "    n = 0\n",
        "    nrows = 2\n",
        "    ncols = 3\n",
        "    fig, ax = plt.subplots(nrows,ncols,sharex=True,sharey=True)\n",
        "    for row in range(nrows):\n",
        "        for col in range(ncols):\n",
        "            error = errors_index[n]\n",
        "            ax[row,col].imshow((img_errors[error]).reshape((28,28)))\n",
        "            ax[row,col].set_title(\"Predicted label :{}\\nTrue label :{}\".format(pred_errors[error],obs_errors[error]))\n",
        "            n += 1\n",
        "\n",
        "# Probabilities of the wrong predicted numbers\n",
        "Y_pred_errors_prob = np.max(Y_pred_errors,axis = 1)\n",
        "\n",
        "# Predicted probabilities of the true values in the error set\n",
        "true_prob_errors = np.diagonal(np.take(Y_pred_errors, Y_true_errors, axis=1))\n",
        "\n",
        "# Difference between the probability of the predicted label and the true label\n",
        "delta_pred_true_errors = Y_pred_errors_prob - true_prob_errors\n",
        "\n",
        "# Sorted list of the delta prob errors\n",
        "sorted_dela_errors = np.argsort(delta_pred_true_errors)\n",
        "\n",
        "# Top 6 errors \n",
        "most_important_errors = sorted_dela_errors[-6:]\n",
        "\n",
        "# Show the top 6 errors\n",
        "display_errors(most_important_errors, X_val_errors, Y_pred_classes_errors, Y_true_errors)"
      ],
      "execution_count": 0,
      "outputs": [
        {
          "output_type": "display_data",
          "data": {
            "image/png": "[encoded data removed]",
            "text/plain": [
              "<Figure size 432x288 with 6 Axes>"
            ]
          },
          "metadata": {
            "tags": []
          }
        }
      ]
    },
    {
      "cell_type": "markdown",
      "metadata": {
        "id": "4j3rdgFcFEE2",
        "colab_type": "text"
      },
      "source": [
        "### use in new example:\n"
      ]
    },
    {
      "cell_type": "code",
      "metadata": {
        "id": "wIch9SNKGyGp",
        "colab_type": "code",
        "outputId": "537be075-c3dd-4c95-cedc-3377fa3e6b83",
        "colab": {
          "base_uri": "https://localhost:8080/",
          "height": 34
        }
      },
      "source": [
        "vectors=model.predict(x_val)\n",
        "predictions=np.argmax(vectors,axis=1)\n",
        "true=np.argmax(y_val,axis=1)\n",
        "predictions[0] ,true[0]"
      ],
      "execution_count": 0,
      "outputs": [
        {
          "output_type": "execute_result",
          "data": {
            "text/plain": [
              "(3, 3)"
            ]
          },
          "metadata": {
            "tags": []
          },
          "execution_count": 69
        }
      ]
    },
    {
      "cell_type": "markdown",
      "metadata": {
        "id": "7TIkqJbgMpur",
        "colab_type": "text"
      },
      "source": [
        "### UPLOAD FILE TO GOOGLE DRIVER:\n",
        "gdrive/My Drive/"
      ]
    },
    {
      "cell_type": "code",
      "metadata": {
        "id": "DJrz8wAsGz4v",
        "colab_type": "code",
        "colab": {}
      },
      "source": [
        "# predict test set:\n",
        "# predict results\n",
        "results = model.predict(test)\n",
        "\n",
        "# select the indix with the maximum probability\n",
        "results = np.argmax(results,axis = 1)\n",
        "\n",
        "# from data to csv file:\n",
        "results = pd.Series(results,name=\"Label\")\n",
        "id=pd.Series(range(1,28001),name = \"ImageId\")\n",
        "submission=pd.concat([id,results],axis=1)\n",
        "\n",
        "submission.to_csv(\"gdrive/My Drive/cnn_mnist_datagen.csv\",index=False)"
      ],
      "execution_count": 0,
      "outputs": []
    },
    {
      "cell_type": "markdown",
      "metadata": {
        "id": "F9uTBQfPKs7h",
        "colab_type": "text"
      },
      "source": [
        "## Summary:\n",
        "### pre-process:\n",
        "- google data get \n",
        "\n",
        "### data process:\n",
        "- load\n",
        "- normalize\n",
        "- reshape\n",
        "- nil\n",
        "- balance\n",
        "- split\n",
        "\n",
        "### construct nn :\n",
        "- model\n",
        "- optmiizer\n",
        "- compile\n",
        "\n",
        "### evaluation:\n",
        "- curves\n",
        "- data\n",
        "- confusion matrix\n",
        "- error present \n",
        "\n",
        "### test:\n",
        "- predict"
      ]
    }
  ]
}