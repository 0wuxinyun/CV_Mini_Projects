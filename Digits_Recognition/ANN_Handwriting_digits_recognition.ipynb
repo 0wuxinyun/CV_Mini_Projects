{
  "nbformat": 4,
  "nbformat_minor": 0,
  "metadata": {
    "colab": {
      "name": "ANN_Handwriting_digits_recognition.ipynb",
      "provenance": []
    },
    "kernelspec": {
      "name": "python3",
      "display_name": "Python 3"
    },
    "accelerator": "GPU"
  },
  "cells": [
    {
      "cell_type": "markdown",
      "metadata": {
        "id": "XEozCqHejwni",
        "colab_type": "text"
      },
      "source": [
        "# Handwriting digits recognition using ANN "
      ]
    },
    {
      "cell_type": "markdown",
      "metadata": {
        "id": "M1Kq9L69jzyn",
        "colab_type": "text"
      },
      "source": [
        "> pre-processing"
      ]
    },
    {
      "cell_type": "code",
      "metadata": {
        "id": "DzzEgwHUkDDC",
        "colab_type": "code",
        "colab": {}
      },
      "source": [
        "# necessary settings:\n",
        "%matplotlib inline\n",
        "%config InlineBackend.figure_format = 'retina'"
      ],
      "execution_count": 0,
      "outputs": []
    },
    {
      "cell_type": "code",
      "metadata": {
        "id": "oKPR_fbAj2iE",
        "colab_type": "code",
        "colab": {}
      },
      "source": [
        "# import library:\n",
        "import numpy as np\n",
        "import matplotlib.pyplot as plt\n",
        "import torch\n",
        "import torchvision\n",
        "from time import time"
      ],
      "execution_count": 0,
      "outputs": []
    },
    {
      "cell_type": "code",
      "metadata": {
        "id": "W3jgOReTkRS4",
        "colab_type": "code",
        "colab": {}
      },
      "source": [
        "# get colab setting\n",
        "import os\n",
        "from google.colab import drive"
      ],
      "execution_count": 0,
      "outputs": []
    },
    {
      "cell_type": "markdown",
      "metadata": {
        "id": "hMxreioIkjnF",
        "colab_type": "text"
      },
      "source": [
        "> Data pre-processing\n",
        "- data transform\n",
        "- data download\n",
        "- data split\n",
        "- data preview"
      ]
    },
    {
      "cell_type": "code",
      "metadata": {
        "id": "1VBW_4jhkckM",
        "colab_type": "code",
        "outputId": "9fbb4e91-2867-435e-944e-a4a504dc5e6e",
        "colab": {
          "base_uri": "https://localhost:8080/",
          "height": 275
        }
      },
      "source": [
        "# get data : \n",
        "\n",
        "from torchvision import datasets,transforms\n",
        "#  data transform: 1: to the form tensor image require / 2: normalize data(mean and standard deviation)\n",
        "transform=transforms.Compose([transforms.ToTensor(),transforms.Normalize((0.5,),(0.5,))]) \n",
        "\n",
        "\n",
        "# Download and load the training data\n",
        "# datasets.MNIST(root,download,train(train/test),transform())\n",
        "trainset = datasets.MNIST('drive/My Drive/mnist/MNIST_data/', download=True, train=True, transform=transform)\n",
        "valset = datasets.MNIST('drive/My Drive/mnist/MNIST_data/', download=True, train=False, transform=transform)\n"
      ],
      "execution_count": 0,
      "outputs": [
        {
          "output_type": "stream",
          "text": [
            "  0%|          | 0/9912422 [00:00<?, ?it/s]"
          ],
          "name": "stderr"
        },
        {
          "output_type": "stream",
          "text": [
            "Downloading http://yann.lecun.com/exdb/mnist/train-images-idx3-ubyte.gz to drive/My Drive/mnist/MNIST_data/MNIST/raw/train-images-idx3-ubyte.gz\n"
          ],
          "name": "stdout"
        },
        {
          "output_type": "stream",
          "text": [
            "9920512it [00:03, 2955088.67it/s]                             \n"
          ],
          "name": "stderr"
        },
        {
          "output_type": "stream",
          "text": [
            "Extracting drive/My Drive/mnist/MNIST_data/MNIST/raw/train-images-idx3-ubyte.gz to drive/My Drive/mnist/MNIST_data/MNIST/raw\n"
          ],
          "name": "stdout"
        },
        {
          "output_type": "stream",
          "text": [
            "32768it [00:00, 328523.89it/s]\n",
            "0it [00:00, ?it/s]"
          ],
          "name": "stderr"
        },
        {
          "output_type": "stream",
          "text": [
            "Downloading http://yann.lecun.com/exdb/mnist/train-labels-idx1-ubyte.gz to drive/My Drive/mnist/MNIST_data/MNIST/raw/train-labels-idx1-ubyte.gz\n",
            "Extracting drive/My Drive/mnist/MNIST_data/MNIST/raw/train-labels-idx1-ubyte.gz to drive/My Drive/mnist/MNIST_data/MNIST/raw\n",
            "Downloading http://yann.lecun.com/exdb/mnist/t10k-images-idx3-ubyte.gz to drive/My Drive/mnist/MNIST_data/MNIST/raw/t10k-images-idx3-ubyte.gz\n"
          ],
          "name": "stdout"
        },
        {
          "output_type": "stream",
          "text": [
            "1654784it [00:02, 815412.39it/s]                             \n",
            "8192it [00:00, 127593.34it/s]\n"
          ],
          "name": "stderr"
        },
        {
          "output_type": "stream",
          "text": [
            "Extracting drive/My Drive/mnist/MNIST_data/MNIST/raw/t10k-images-idx3-ubyte.gz to drive/My Drive/mnist/MNIST_data/MNIST/raw\n",
            "Downloading http://yann.lecun.com/exdb/mnist/t10k-labels-idx1-ubyte.gz to drive/My Drive/mnist/MNIST_data/MNIST/raw/t10k-labels-idx1-ubyte.gz\n",
            "Extracting drive/My Drive/mnist/MNIST_data/MNIST/raw/t10k-labels-idx1-ubyte.gz to drive/My Drive/mnist/MNIST_data/MNIST/raw\n",
            "Processing...\n",
            "Done!\n"
          ],
          "name": "stdout"
        }
      ]
    },
    {
      "cell_type": "code",
      "metadata": {
        "id": "BXyuj-48DnCP",
        "colab_type": "code",
        "colab": {}
      },
      "source": [
        "# torch.utils.data.DataLoader(data,batch_size,shuffle)\n",
        "trainloader = torch.utils.data.DataLoader(trainset, batch_size=64, shuffle=True)\n",
        "valloader = torch.utils.data.DataLoader(valset, batch_size=64, shuffle=True)"
      ],
      "execution_count": 0,
      "outputs": []
    },
    {
      "cell_type": "code",
      "metadata": {
        "id": "FVaCH9CXncG_",
        "colab_type": "code",
        "outputId": "2ab977f8-b221-4a28-8243-3025b3925590",
        "colab": {
          "base_uri": "https://localhost:8080/",
          "height": 68
        }
      },
      "source": [
        "# Data preview:\n",
        "# data size\n",
        "dataiter = iter(trainloader)\n",
        "images, labels = dataiter.next()  # first batch \n",
        "print(type(images))\n",
        "print(images.shape)\n",
        "print(labels.shape)"
      ],
      "execution_count": 0,
      "outputs": [
        {
          "output_type": "stream",
          "text": [
            "<class 'torch.Tensor'>\n",
            "torch.Size([64, 1, 28, 28])\n",
            "torch.Size([64])\n"
          ],
          "name": "stdout"
        }
      ]
    },
    {
      "cell_type": "code",
      "metadata": {
        "id": "rOS5X2OpsS3_",
        "colab_type": "code",
        "outputId": "4d88804e-5165-4f01-fa07-727e20e4ce20",
        "colab": {
          "base_uri": "https://localhost:8080/",
          "height": 284
        }
      },
      "source": [
        "# data view1:\n",
        "plt.imshow(images[6].numpy().squeeze(),cmap=\"gray_r\")"
      ],
      "execution_count": 0,
      "outputs": [
        {
          "output_type": "execute_result",
          "data": {
            "text/plain": [
              "<matplotlib.image.AxesImage at 0x7f63d84286d8>"
            ]
          },
          "metadata": {
            "tags": []
          },
          "execution_count": 7
        },
        {
          "output_type": "display_data",
          "data": {
            "image/png": "[encoded data removed]",
            "text/plain": [
              "<Figure size 432x288 with 1 Axes>"
            ]
          },
          "metadata": {
            "tags": [],
            "image/png": {
              "width": 253,
              "height": 250
            }
          }
        }
      ]
    },
    {
      "cell_type": "code",
      "metadata": {
        "id": "6aciPTt6tSMj",
        "colab_type": "code",
        "outputId": "5583b1ec-6aac-4319-ea35-a9e85c9c8d93",
        "colab": {
          "base_uri": "https://localhost:8080/",
          "height": 265
        }
      },
      "source": [
        "# data view2:\n",
        "figure=plt.figure()\n",
        "for i in range(60):\n",
        "  plt.subplot(6,10,i+1)\n",
        "  plt.axis(\"off\")\n",
        "  plt.imshow(images[i].numpy().squeeze(),cmap=\"gray_r\")"
      ],
      "execution_count": 0,
      "outputs": [
        {
          "output_type": "display_data",
          "data": {
            "image/png": "[encoded data removed]",
            "text/plain": [
              "<Figure size 432x288 with 60 Axes>"
            ]
          },
          "metadata": {
            "tags": [],
            "image/png": {
              "width": 372,
              "height": 248
            }
          }
        }
      ]
    },
    {
      "cell_type": "markdown",
      "metadata": {
        "id": "OJbKckUfu7V6",
        "colab_type": "text"
      },
      "source": [
        "> Data training\n",
        "\n",
        "- ANN training"
      ]
    },
    {
      "cell_type": "code",
      "metadata": {
        "id": "135pv6okt17Q",
        "colab_type": "code",
        "colab": {}
      },
      "source": [
        "from torch import nn\n",
        "# build ann structure:\n",
        "layer=[28*28,128,64,10]\n",
        "\n",
        "model=nn.Sequential(nn.Linear(layer[0],layer[1]),\n",
        "        nn.ReLU(),\n",
        "        nn.Linear(layer[1],layer[2]),\n",
        "        nn.ReLU(),\n",
        "        nn.Linear(layer[2],layer[3]),\n",
        "        nn.LogSoftmax(dim=1))\n",
        "        "
      ],
      "execution_count": 0,
      "outputs": []
    },
    {
      "cell_type": "code",
      "metadata": {
        "id": "6PvHG-3K22-v",
        "colab_type": "code",
        "outputId": "9dae60a7-1788-43e1-9828-6c63ea4fbb28",
        "colab": {
          "base_uri": "https://localhost:8080/",
          "height": 289
        }
      },
      "source": [
        "# train ANN :\n",
        "# loss function / optimizor(update weight)\n",
        "from torch import optim\n",
        "criterion = nn.NLLLoss() \n",
        "optimizer = optim.SGD(model.parameters(), lr=0.003, momentum=0.9)\n",
        "epoches=15\n",
        "time0=time()\n",
        "\n",
        "# epoches:\n",
        "for i in range(1,epoches):\n",
        "  run_loss=0.0\n",
        "  # batch size \n",
        "  for images,labels in trainloader:\n",
        "    # process image data\n",
        "    images=images.view(images.shape[0],-1)\n",
        "    # clear the gradient accumulation in optimizer between each batch \n",
        "    optimizer.zero_grad()\n",
        "    output=model(images)\n",
        "    loss=criterion(output,labels)\n",
        "    loss.backward()\n",
        "    optimizer.step()\n",
        "    run_loss+=loss.item()\n",
        "  else:\n",
        "    print(\"Epoch {} - Training loss: {}\".format(i, run_loss/len(trainloader)))\n",
        "print(\"\\nTraining Time (in minutes) =\",(time()-time0)/60)\n",
        "\n",
        "    \n",
        "    \n",
        "    "
      ],
      "execution_count": 0,
      "outputs": [
        {
          "output_type": "stream",
          "text": [
            "Epoch 1 - Training loss: 0.6347961096780133\n",
            "Epoch 2 - Training loss: 0.2780656685421208\n",
            "Epoch 3 - Training loss: 0.2174671459426758\n",
            "Epoch 4 - Training loss: 0.17465388482170446\n",
            "Epoch 5 - Training loss: 0.1459990785395635\n",
            "Epoch 6 - Training loss: 0.1248291679747355\n",
            "Epoch 7 - Training loss: 0.10896592309225851\n",
            "Epoch 8 - Training loss: 0.09721093256669894\n",
            "Epoch 9 - Training loss: 0.08652106296173784\n",
            "Epoch 10 - Training loss: 0.07857232882744515\n",
            "Epoch 11 - Training loss: 0.07137667696907131\n",
            "Epoch 12 - Training loss: 0.0661793975343209\n",
            "Epoch 13 - Training loss: 0.06168200404493452\n",
            "Epoch 14 - Training loss: 0.05674137541952767\n",
            "\n",
            "Training Time (in minutes) = 3.2630529403686523\n"
          ],
          "name": "stdout"
        }
      ]
    },
    {
      "cell_type": "markdown",
      "metadata": {
        "id": "XQWK-97_FnB0",
        "colab_type": "text"
      },
      "source": [
        "> Evaluate the ANN:\n",
        "- visualize some examples\n",
        "- use validate datasets"
      ]
    },
    {
      "cell_type": "code",
      "metadata": {
        "id": "fYeGVyEdDrSX",
        "colab_type": "code",
        "colab": {}
      },
      "source": [
        "# visualize :\n",
        "\n",
        "def view_classify(img, ps):\n",
        "    ''' Function for viewing an image and it's predicted classes.\n",
        "    '''\n",
        "    ps = ps.data.numpy().squeeze()\n",
        "\n",
        "    fig, (ax1, ax2) = plt.subplots(figsize=(6,9), ncols=2)\n",
        "    ax1.imshow(img.resize_(1, 28, 28).numpy().squeeze())\n",
        "    ax1.axis('off')\n",
        "    ax2.barh(np.arange(10), ps)\n",
        "    ax2.set_aspect(0.1)\n",
        "    ax2.set_yticks(np.arange(10))\n",
        "    ax2.set_yticklabels(np.arange(10))\n",
        "    ax2.set_title('Class Probability')\n",
        "    ax2.set_xlim(0, 1.1)\n",
        "    plt.tight_layout()"
      ],
      "execution_count": 0,
      "outputs": []
    },
    {
      "cell_type": "code",
      "metadata": {
        "id": "-3d9Lv4RHLi2",
        "colab_type": "code",
        "outputId": "cb29501a-7de3-411b-d652-b85983653dc2",
        "colab": {
          "base_uri": "https://localhost:8080/",
          "height": 260
        }
      },
      "source": [
        "images, labels = next(iter(valloader))\n",
        "\n",
        "img = images[0].view(1, 784)\n",
        "\n",
        "\n",
        "# Turn off gradients to speed up this part\n",
        "with torch.no_grad():\n",
        "    logps = model(img)\n",
        "\n",
        "# Output of the network are log-probabilities, need to take exponential for probabilities\n",
        "ps = torch.exp(logps)\n",
        "probab = list(ps.numpy()[0])\n",
        "print(\"Predicted Digit =\", probab.index(max(probab)))\n",
        "view_classify(img.view(1, 28, 28), ps)"
      ],
      "execution_count": 0,
      "outputs": [
        {
          "output_type": "stream",
          "text": [
            "Predicted Digit = 7\n"
          ],
          "name": "stdout"
        },
        {
          "output_type": "display_data",
          "data": {
            "image/png": "[encoded data removed]",
            "text/plain": [
              "<Figure size 432x648 with 2 Axes>"
            ]
          },
          "metadata": {
            "tags": [],
            "image/png": {
              "width": 423,
              "height": 226
            }
          }
        }
      ]
    },
    {
      "cell_type": "code",
      "metadata": {
        "id": "-Hi3TlMaHUuJ",
        "colab_type": "code",
        "outputId": "3607d1fa-6d87-4dfa-8ce7-6393fa77fa10",
        "colab": {
          "base_uri": "https://localhost:8080/",
          "height": 68
        }
      },
      "source": [
        "# vallidate set\n",
        "\n",
        "correct_count, all_count = 0, 0\n",
        "for images,labels in valloader:\n",
        "  for i in range(len(labels)):\n",
        "    img = images[i].view(1, 784)\n",
        "    # Turn off gradients to speed up this part\n",
        "    with torch.no_grad():\n",
        "        logps = model(img)\n",
        "\n",
        "    # Output of the network are log-probabilities, need to take exponential for probabilities\n",
        "    ps = torch.exp(logps)\n",
        "    probab = list(ps.numpy()[0])\n",
        "    pred_label = probab.index(max(probab))\n",
        "    true_label = labels.numpy()[i]\n",
        "    if(true_label == pred_label):\n",
        "      correct_count += 1\n",
        "    all_count += 1\n",
        "\n",
        "print(\"Number Of Images Tested =\", all_count)\n",
        "print(\"\\nModel Accuracy =\", (correct_count/all_count))"
      ],
      "execution_count": 0,
      "outputs": [
        {
          "output_type": "stream",
          "text": [
            "Number Of Images Tested = 10000\n",
            "\n",
            "Model Accuracy = 0.9735\n"
          ],
          "name": "stdout"
        }
      ]
    },
    {
      "cell_type": "markdown",
      "metadata": {
        "id": "Kuue27pfIME7",
        "colab_type": "text"
      },
      "source": [
        "> Problem and Feedback"
      ]
    },
    {
      "cell_type": "markdown",
      "metadata": {
        "id": "8NBqg35cIQry",
        "colab_type": "text"
      },
      "source": [
        "## overview process:\n",
        "- Data process:download/load(train/val)/pre-process(transform/normalize/to tensor/batchsize)\n",
        "- Construct ANN: layers/activate function/predict function/loss function/ optimizer\n",
        "- Train: epoches/batch/ PS:gradient_0 \n",
        "- Evalute: visualize / validation "
      ]
    },
    {
      "cell_type": "markdown",
      "metadata": {
        "id": "_6f0M6X7JRhz",
        "colab_type": "text"
      },
      "source": [
        "## Notes:\n",
        "- how to transforms data \n",
        "- how to load data\n",
        "- how to construct nn in torch\n",
        "- how to train: gradient_0 / feedforward/ loss/backforwar/update "
      ]
    }
  ]
}